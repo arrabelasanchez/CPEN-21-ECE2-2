{
  "nbformat": 4,
  "nbformat_minor": 0,
  "metadata": {
    "colab": {
      "name": "Control Structure.ipynb",
      "provenance": [],
      "authorship_tag": "ABX9TyNXor8gDOGXL13uxZ3J1TH1",
      "include_colab_link": true
    },
    "kernelspec": {
      "name": "python3",
      "display_name": "Python 3"
    },
    "language_info": {
      "name": "python"
    }
  },
  "cells": [
    {
      "cell_type": "markdown",
      "metadata": {
        "id": "view-in-github",
        "colab_type": "text"
      },
      "source": [
        "<a href=\"https://colab.research.google.com/github/arrabelasanchez/CPEN21A-ECE-2-2/blob/main/Control_Structure.ipynb\" target=\"_parent\"><img src=\"https://colab.research.google.com/assets/colab-badge.svg\" alt=\"Open In Colab\"/></a>"
      ]
    },
    {
      "cell_type": "markdown",
      "metadata": {
        "id": "XYi7hmJZxoSj"
      },
      "source": [
        "###If Statement"
      ]
    },
    {
      "cell_type": "code",
      "metadata": {
        "colab": {
          "base_uri": "https://localhost:8080/"
        },
        "id": "Y6EZqjx6w6mQ",
        "outputId": "e0495dae-d932-4e9a-c053-faae4787be85"
      },
      "source": [
        "a = 12\n",
        "b = 100\n",
        "if b>a:\n",
        "  print(\"b is greater than a\")"
      ],
      "execution_count": 4,
      "outputs": [
        {
          "output_type": "stream",
          "name": "stdout",
          "text": [
            "b is greater than a\n"
          ]
        }
      ]
    },
    {
      "cell_type": "markdown",
      "metadata": {
        "id": "-s1rXmYYyXok"
      },
      "source": [
        "###Elif Statements"
      ]
    },
    {
      "cell_type": "code",
      "metadata": {
        "colab": {
          "base_uri": "https://localhost:8080/"
        },
        "id": "yuHcSEzSycS2",
        "outputId": "6490b4da-5f59-4b3c-c7cb-bbf00d48cbe1"
      },
      "source": [
        "a = 12\n",
        "b = 100\n",
        "if b<a:\n",
        "  print(\"b is less than a\")\n",
        "elif b>a:\n",
        "  print(\"b is greater than a\")"
      ],
      "execution_count": 5,
      "outputs": [
        {
          "output_type": "stream",
          "name": "stdout",
          "text": [
            "b is greater than a\n"
          ]
        }
      ]
    },
    {
      "cell_type": "markdown",
      "metadata": {
        "id": "xiVGY6lHzHeY"
      },
      "source": [
        "###Else Statement"
      ]
    },
    {
      "cell_type": "code",
      "metadata": {
        "colab": {
          "base_uri": "https://localhost:8080/"
        },
        "id": "VLeaMOPYzLNp",
        "outputId": "2cc34d83-5f3f-42cc-be0b-815b5a891331"
      },
      "source": [
        "a = 12\n",
        "b = 12\n",
        "if b<a:\n",
        "  print(\"b is less than a\")\n",
        "elif b>a:\n",
        "  print(\"b is greater than a\")\n",
        "else:\n",
        "  print(\"a is equal to b\")"
      ],
      "execution_count": 6,
      "outputs": [
        {
          "output_type": "stream",
          "name": "stdout",
          "text": [
            "a is equal to b\n"
          ]
        }
      ]
    },
    {
      "cell_type": "markdown",
      "metadata": {
        "id": "ADj_839mzx36"
      },
      "source": [
        "###Short Hand If..Else "
      ]
    },
    {
      "cell_type": "code",
      "metadata": {
        "colab": {
          "base_uri": "https://localhost:8080/"
        },
        "id": "Z2oOoIOQz8J6",
        "outputId": "fdf3830f-9fb1-4bbe-e0bc-d837b7655c76"
      },
      "source": [
        "a = 2\n",
        "b = 330\n",
        "print(\"A\") if a>b else print(\"B\")"
      ],
      "execution_count": 8,
      "outputs": [
        {
          "output_type": "stream",
          "name": "stdout",
          "text": [
            "B\n"
          ]
        }
      ]
    },
    {
      "cell_type": "code",
      "metadata": {
        "colab": {
          "base_uri": "https://localhost:8080/"
        },
        "id": "HP-lBq9v1Ldo",
        "outputId": "797c178c-b6cb-446f-a03e-095ff064329d"
      },
      "source": [
        "a = 420\n",
        "b = 330\n",
        "print(\"A\") if a>b else print(\"B\")"
      ],
      "execution_count": 9,
      "outputs": [
        {
          "output_type": "stream",
          "name": "stdout",
          "text": [
            "A\n"
          ]
        }
      ]
    },
    {
      "cell_type": "markdown",
      "metadata": {
        "id": "k11lHMBf0oAc"
      },
      "source": [
        "###And Condition"
      ]
    },
    {
      "cell_type": "code",
      "metadata": {
        "colab": {
          "base_uri": "https://localhost:8080/"
        },
        "id": "c03KMu9d1U4P",
        "outputId": "1d6b006d-1869-4ded-c6ba-e7832347bd09"
      },
      "source": [
        "a = 200\n",
        "b = 33\n",
        "c = 500\n",
        "\n",
        "if a>b and a<c:\n",
        "  print(\"The conditions need to be True\")"
      ],
      "execution_count": 14,
      "outputs": [
        {
          "output_type": "stream",
          "name": "stdout",
          "text": [
            "The conditions need to be True\n"
          ]
        }
      ]
    },
    {
      "cell_type": "markdown",
      "metadata": {
        "id": "Hp2BcB_J2KrT"
      },
      "source": [
        "###Or Condition"
      ]
    },
    {
      "cell_type": "code",
      "metadata": {
        "colab": {
          "base_uri": "https://localhost:8080/"
        },
        "id": "Q5uqAIMA2NnU",
        "outputId": "73a5b4ab-417a-482b-9625-d1b68169d67a"
      },
      "source": [
        "a = 200\n",
        "b = 33\n",
        "c = 500\n",
        "\n",
        "if a>b or a<c:\n",
        "  print(\"The conditions need to be True\")"
      ],
      "execution_count": 15,
      "outputs": [
        {
          "output_type": "stream",
          "name": "stdout",
          "text": [
            "The conditions need to be True\n"
          ]
        }
      ]
    },
    {
      "cell_type": "code",
      "metadata": {
        "colab": {
          "base_uri": "https://localhost:8080/"
        },
        "id": "A24KDuuc2h1B",
        "outputId": "00ecf50b-74c1-417a-a92e-b5d533d14743"
      },
      "source": [
        "a = 200\n",
        "b = 33\n",
        "c = 500\n",
        "\n",
        "if a>b or a<b:\n",
        "  print(\"One of the conditions is True\")"
      ],
      "execution_count": 16,
      "outputs": [
        {
          "output_type": "stream",
          "name": "stdout",
          "text": [
            "One of the conditions is True\n"
          ]
        }
      ]
    },
    {
      "cell_type": "markdown",
      "metadata": {
        "id": "5Z2MaOCN2xlV"
      },
      "source": [
        "###Nested If"
      ]
    },
    {
      "cell_type": "code",
      "metadata": {
        "colab": {
          "base_uri": "https://localhost:8080/"
        },
        "id": "sC1DJcu8207G",
        "outputId": "00438e2a-3e0d-4974-bc3f-4024ef008f9e"
      },
      "source": [
        "a = 41\n",
        "\n",
        "if a>10:\n",
        "  print(\"Above 10\")\n",
        "  if a>20:\n",
        "    print(\"Above 20\")\n",
        "  else:\n",
        "    print(\"not above 20\")"
      ],
      "execution_count": 22,
      "outputs": [
        {
          "output_type": "stream",
          "name": "stdout",
          "text": [
            "Above 10\n",
            "Above 20\n"
          ]
        }
      ]
    },
    {
      "cell_type": "markdown",
      "metadata": {
        "id": "KWouAxkS4THI"
      },
      "source": [
        "###Nested If...Else"
      ]
    },
    {
      "cell_type": "code",
      "metadata": {
        "colab": {
          "base_uri": "https://localhost:8080/"
        },
        "id": "5P_MjXrG4Yoo",
        "outputId": "3754c6fd-8499-4c73-b43a-8b0d767efd45"
      },
      "source": [
        "a = 4\n",
        "\n",
        "if a>10:\n",
        "  print(\"Above 10\")\n",
        "  if a>20:\n",
        "    print(\"Above 20\")\n",
        "  else:\n",
        "    print(\"not above 20\")\n",
        "else:\n",
        "  print(\"Below 10\")"
      ],
      "execution_count": 24,
      "outputs": [
        {
          "output_type": "stream",
          "name": "stdout",
          "text": [
            "Below 10\n"
          ]
        }
      ]
    },
    {
      "cell_type": "markdown",
      "metadata": {
        "id": "ai-PDoFA40kw"
      },
      "source": [
        "##Example 1\n",
        "Write a program that determines if the input age is qualified to vote or not. The qualifying age is 18 yeard old and above."
      ]
    },
    {
      "cell_type": "code",
      "metadata": {
        "colab": {
          "base_uri": "https://localhost:8080/"
        },
        "id": "IaDPCbK6437g",
        "outputId": "3b807621-f759-4804-9921-f76386b5aafa"
      },
      "source": [
        "a = 16\n",
        "\n",
        "if age>18:\n",
        "  print(\"Qualified to Vote\")\n",
        "elif age<18:\n",
        "  print(\"Not qualified to Vote\")\n"
      ],
      "execution_count": 30,
      "outputs": [
        {
          "output_type": "stream",
          "name": "stdout",
          "text": [
            "Qualified to Vote\n"
          ]
        }
      ]
    },
    {
      "cell_type": "code",
      "metadata": {
        "colab": {
          "base_uri": "https://localhost:8080/"
        },
        "id": "s3EfIf3r5yz9",
        "outputId": "36cdae33-0d50-42dd-c7c0-bb9b0d8d89d8"
      },
      "source": [
        "age = 24\n",
        "\n",
        "if age>18:\n",
        "  print(\"Qualified to Vote\")\n",
        "elif age<18:\n",
        "  print(\"Not qualified to Vote\")"
      ],
      "execution_count": 29,
      "outputs": [
        {
          "output_type": "stream",
          "name": "stdout",
          "text": [
            "Qualified to Vote\n"
          ]
        }
      ]
    },
    {
      "cell_type": "code",
      "metadata": {
        "colab": {
          "base_uri": "https://localhost:8080/"
        },
        "id": "yw730Eh06qoV",
        "outputId": "ab1ea038-2a23-4000-9c73-8cb826570e2c"
      },
      "source": [
        "#The qualifying age to vote\n",
        "\n",
        "age = 18\n",
        "\n",
        "if age>=18:\n",
        "  print(\"You are qualified to vote\")\n",
        "else:\n",
        "  print(\"You are not qualified to vote\")"
      ],
      "execution_count": 27,
      "outputs": [
        {
          "output_type": "stream",
          "name": "stdout",
          "text": [
            "You are qualified to vote\n"
          ]
        }
      ]
    },
    {
      "cell_type": "code",
      "metadata": {
        "colab": {
          "base_uri": "https://localhost:8080/"
        },
        "id": "HYo7a8-T7GIT",
        "outputId": "950ced10-fc16-47fc-a072-a806d7196c83"
      },
      "source": [
        "#The qualifying age to vote\n",
        "\n",
        "age = int(input(\"Please enter your age:\"))\n",
        "\n",
        "if age>=18:\n",
        "  print(\"You are qualified to vote\")\n",
        "else:\n",
        "  print(\"You are not qualified to vote\")"
      ],
      "execution_count": 35,
      "outputs": [
        {
          "output_type": "stream",
          "name": "stdout",
          "text": [
            "Please enter your age:15\n",
            "You are not qualified to vote\n"
          ]
        }
      ]
    },
    {
      "cell_type": "markdown",
      "metadata": {
        "id": "a55IniCq7do8"
      },
      "source": [
        "##Example 2\n",
        "Write a program that determines if the input number is POSITIVE or NEGATIVE. Consider 0 is positive (considering it has no negative sign)."
      ]
    },
    {
      "cell_type": "code",
      "metadata": {
        "colab": {
          "base_uri": "https://localhost:8080/"
        },
        "id": "ww5GbAyj7xYf",
        "outputId": "af6077ca-82b6-4c57-8c71-219049a9fdde"
      },
      "source": [
        "number = int(input(\"Enter a number:\"))\n",
        "if number>0:\n",
        "  print(\"You entered a positive number\")\n",
        "elif number==0:\n",
        "  print(\"You entered 0\")\n",
        "else:\n",
        "  print(\"You entered a negative number\")"
      ],
      "execution_count": 34,
      "outputs": [
        {
          "output_type": "stream",
          "name": "stdout",
          "text": [
            "Enter a number:-17\n",
            "You entered a negative number\n"
          ]
        }
      ]
    }
  ]
}