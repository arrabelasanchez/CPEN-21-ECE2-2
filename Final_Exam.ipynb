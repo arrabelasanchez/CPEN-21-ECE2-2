{
  "nbformat": 4,
  "nbformat_minor": 0,
  "metadata": {
    "colab": {
      "name": "Final Exam.ipynb",
      "provenance": [],
      "collapsed_sections": [],
      "authorship_tag": "ABX9TyO5zei0OMAsjK2n2xskLUhg",
      "include_colab_link": true
    },
    "kernelspec": {
      "name": "python3",
      "display_name": "Python 3"
    },
    "language_info": {
      "name": "python"
    }
  },
  "cells": [
    {
      "cell_type": "markdown",
      "metadata": {
        "id": "view-in-github",
        "colab_type": "text"
      },
      "source": [
        "<a href=\"https://colab.research.google.com/github/arrabelasanchez/CPEN21A-ECE-2-2/blob/main/Final_Exam.ipynb\" target=\"_parent\"><img src=\"https://colab.research.google.com/assets/colab-badge.svg\" alt=\"Open In Colab\"/></a>"
      ]
    },
    {
      "cell_type": "markdown",
      "source": [
        "Problem Statement 1"
      ],
      "metadata": {
        "id": "u_0NPZ1Ds8bg"
      }
    },
    {
      "cell_type": "code",
      "source": [
        "sum = 0\n",
        "for x in [-5,-4,-3,-2,-1,0,1,2,3,4]:\n",
        "    sum = sum + x\n",
        "\n",
        "print(sum)"
      ],
      "metadata": {
        "colab": {
          "base_uri": "https://localhost:8080/"
        },
        "id": "7h899BCA7tmq",
        "outputId": "1401afbc-346d-4bad-f48c-8883386c7e05"
      },
      "execution_count": 9,
      "outputs": [
        {
          "output_type": "stream",
          "name": "stdout",
          "text": [
            "-5\n"
          ]
        }
      ]
    },
    {
      "cell_type": "markdown",
      "source": [
        "Problem Statement 2"
      ],
      "metadata": {
        "id": "7idLTUN_uMn1"
      }
    },
    {
      "cell_type": "code",
      "source": [
        "i=0\n",
        "u=[]\n",
        "\n",
        "while i<5:\n",
        "  i+=1\n",
        "  iu=int(input(\"Enter a number:\"))\n",
        "  u.append(iu)\n",
        "  um=u[0]+u[-1]\n",
        "print(\"Entered Numbers:\", u)\n",
        "print(um)"
      ],
      "metadata": {
        "colab": {
          "base_uri": "https://localhost:8080/"
        },
        "id": "Lx30UZECGZCE",
        "outputId": "2cdabf0a-8caa-4bc3-ba89-b3ec726301a6"
      },
      "execution_count": null,
      "outputs": [
        {
          "output_type": "stream",
          "name": "stdout",
          "text": [
            "Enter a number:12\n",
            "Enter a number:1\n",
            "Enter a number:4\n",
            "Enter a number:7\n",
            "Enter a number:8\n",
            "Entered Numbers: [12, 1, 4, 7, 8]\n",
            "20\n"
          ]
        }
      ]
    },
    {
      "cell_type": "markdown",
      "source": [
        "Problem Statement 3"
      ],
      "metadata": {
        "id": "22dxbTAKuNd3"
      }
    },
    {
      "cell_type": "code",
      "source": [
        "grade = int(input(\"Enter the grade:\"))\n",
        "\n",
        "if grade>=90:\n",
        "  print(\"A\")\n",
        "else:\n",
        "  if grade>=80:\n",
        "    print(\"B\")\n",
        "  else:\n",
        "    if grade>=70:\n",
        "      print(\"C\")\n",
        "    else:\n",
        "      if grade>=60:\n",
        "        print(\"D\")\n",
        "      else:\n",
        "        print(\"F\")\n"
      ],
      "metadata": {
        "colab": {
          "base_uri": "https://localhost:8080/"
        },
        "id": "Ymw_hj-C2RtJ",
        "outputId": "f07bbd99-7e0a-41cf-a07a-f9225c26c831"
      },
      "execution_count": null,
      "outputs": [
        {
          "output_type": "stream",
          "name": "stdout",
          "text": [
            "Enter the grade:80\n",
            "B\n"
          ]
        }
      ]
    }
  ]
}