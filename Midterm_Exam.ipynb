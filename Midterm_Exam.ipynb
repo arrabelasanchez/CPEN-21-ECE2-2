{
  "nbformat": 4,
  "nbformat_minor": 0,
  "metadata": {
    "colab": {
      "name": "Midterm Exam.ipynb",
      "provenance": [],
      "collapsed_sections": [],
      "authorship_tag": "ABX9TyMB/7/WyZcmMoyz5NYLG9Rn",
      "include_colab_link": true
    },
    "kernelspec": {
      "name": "python3",
      "display_name": "Python 3"
    },
    "language_info": {
      "name": "python"
    }
  },
  "cells": [
    {
      "cell_type": "markdown",
      "metadata": {
        "id": "view-in-github",
        "colab_type": "text"
      },
      "source": [
        "<a href=\"https://colab.research.google.com/github/arrabelasanchez/CPEN21A-ECE-2-2/blob/main/Midterm_Exam.ipynb\" target=\"_parent\"><img src=\"https://colab.research.google.com/assets/colab-badge.svg\" alt=\"Open In Colab\"/></a>"
      ]
    },
    {
      "cell_type": "markdown",
      "metadata": {
        "id": "a0Uu_G69tcaB"
      },
      "source": [
        "##Midterm Exam"
      ]
    },
    {
      "cell_type": "markdown",
      "metadata": {
        "id": "Ikei37F-x4nK"
      },
      "source": [
        "####Problem Statement 1. "
      ]
    },
    {
      "cell_type": "code",
      "metadata": {
        "colab": {
          "base_uri": "https://localhost:8080/"
        },
        "id": "WEirgatPsY8y",
        "outputId": "b2ab25ac-de07-43b8-a18d-b79d7bdc5f15"
      },
      "source": [
        "a = \"Full name: Sanchez, Arrabela G.\"\n",
        "b = \"Student Number: 202014741\"\n",
        "c = \"Age: 19\"\n",
        "d = \"Birthday: 07/21/2002\"\n",
        "e = \"Address: Bambang Calaca, Batangas\"\n",
        "f = \"Course: Bachelor of Science in Electronics and Communication Engineering\"\n",
        "g = \"Last Sem GWA: 1.3\"\n",
        "\n",
        "print (a)\n",
        "print (b)\n",
        "print (c)\n",
        "print (d)\n",
        "print (e)\n",
        "print (f)\n",
        "print (g)"
      ],
      "execution_count": 22,
      "outputs": [
        {
          "output_type": "stream",
          "name": "stdout",
          "text": [
            "Full name: Sanchez, Arrabela G.\n",
            "Student Number: 202014741\n",
            "Age: 19\n",
            "Birthday: 07/21/2002\n",
            "Address: Bambang Calaca, Batangas\n",
            "Course: Bachelor of Science in Electronics and Communication Engineering\n",
            "Last Sem GWA: 1.3\n"
          ]
        }
      ]
    },
    {
      "cell_type": "markdown",
      "metadata": {
        "id": "tq4DuQ4zxwae"
      },
      "source": [
        "####Problem Statement 2."
      ]
    },
    {
      "cell_type": "code",
      "metadata": {
        "colab": {
          "base_uri": "https://localhost:8080/"
        },
        "id": "Dhz2bGEXwBYU",
        "outputId": "6f4eb175-41f7-45c0-c62e-1a074b47f472"
      },
      "source": [
        "n =  4\n",
        "answ = \"Y\"\n",
        "\n",
        "print (2<n and n<6)\n",
        "print (2<n or n==6)\n",
        "print (not (2<n or n==6))\n",
        "print (not (n<6))\n",
        "print (answ==\"Y\" or answ==\"y\")\n",
        "print (answ==\"Y\" and answ==\"y\")\n",
        "print (not answ==\"y\")\n",
        "print ((2<n and n==(5+1)) or (answ==\"No\"))\n",
        "print ((n==2 and n==7) or (answ==\"Y\"))\n",
        "print ((n==2) and (n==7 or answ==\"Y\"))"
      ],
      "execution_count": 67,
      "outputs": [
        {
          "output_type": "stream",
          "name": "stdout",
          "text": [
            "True\n",
            "True\n",
            "False\n",
            "False\n",
            "True\n",
            "False\n",
            "True\n",
            "False\n",
            "True\n",
            "False\n"
          ]
        }
      ]
    },
    {
      "cell_type": "markdown",
      "metadata": {
        "id": "A8DhbOiPxl83"
      },
      "source": [
        "####Problem Statement 3."
      ]
    },
    {
      "cell_type": "code",
      "metadata": {
        "colab": {
          "base_uri": "https://localhost:8080/"
        },
        "id": "wOBuc30iwVy8",
        "outputId": "5eaa8998-1296-4235-ab43-b09c75561f73"
      },
      "source": [
        "x = 2\n",
        "y = -3\n",
        "w = 7\n",
        "z = -10\n",
        "\n",
        "print (x/y)\n",
        "print (w/y/z)\n",
        "print (z/y%x)\n",
        "print (x%-y*w)\n",
        "print (x%y)\n",
        "print (z%w-y/x*5+5)\n",
        "print (9-x%(2+y))\n",
        "print (z//w)\n",
        "print ((2+y)**2)\n",
        "print (w/x*2)"
      ],
      "execution_count": 21,
      "outputs": [
        {
          "output_type": "stream",
          "name": "stdout",
          "text": [
            "-0.6666666666666666\n",
            "0.23333333333333334\n",
            "1.3333333333333335\n",
            "14\n",
            "-1\n",
            "16.5\n",
            "9\n",
            "-2\n",
            "1\n",
            "7.0\n"
          ]
        }
      ]
    }
  ]
}