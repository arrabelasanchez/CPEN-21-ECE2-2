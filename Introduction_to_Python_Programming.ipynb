{
  "nbformat": 4,
  "nbformat_minor": 0,
  "metadata": {
    "colab": {
      "name": "Introduction to Python Programming",
      "provenance": [],
      "collapsed_sections": [],
      "authorship_tag": "ABX9TyM0AmI9LtrNu4xdt/A8Q6eK",
      "include_colab_link": true
    },
    "kernelspec": {
      "name": "python3",
      "display_name": "Python 3"
    },
    "language_info": {
      "name": "python"
    }
  },
  "cells": [
    {
      "cell_type": "markdown",
      "metadata": {
        "id": "view-in-github",
        "colab_type": "text"
      },
      "source": [
        "<a href=\"https://colab.research.google.com/github/arrabelasanchez/CPEN-ECE-2-2/blob/main/Introduction_to_Python_Programming.ipynb\" target=\"_parent\"><img src=\"https://colab.research.google.com/assets/colab-badge.svg\" alt=\"Open In Colab\"/></a>"
      ]
    },
    {
      "cell_type": "markdown",
      "metadata": {
        "id": "uzvHcOX0ixak"
      },
      "source": [
        "#Review of Python"
      ]
    },
    {
      "cell_type": "code",
      "metadata": {
        "colab": {
          "base_uri": "https://localhost:8080/"
        },
        "id": "i2CN-Y6Vi1T6",
        "outputId": "bfda1373-5181-4858-8a7f-16038dd234c1"
      },
      "source": [
        "print(\"Welcome to Python\")"
      ],
      "execution_count": 33,
      "outputs": [
        {
          "output_type": "stream",
          "name": "stdout",
          "text": [
            "Welcome to Python\n"
          ]
        }
      ]
    },
    {
      "cell_type": "code",
      "metadata": {
        "colab": {
          "base_uri": "https://localhost:8080/"
        },
        "id": "6_tj4FJwx2V5",
        "outputId": "6313a501-1be3-4c7e-ecb4-95e2aa9cb59b"
      },
      "source": [
        "b= \"Sally\"\n",
        "print (b)"
      ],
      "execution_count": 38,
      "outputs": [
        {
          "output_type": "stream",
          "name": "stdout",
          "text": [
            "Sally\n"
          ]
        }
      ]
    },
    {
      "cell_type": "code",
      "metadata": {
        "colab": {
          "base_uri": "https://localhost:8080/"
        },
        "id": "aelaYe0rx7Wq",
        "outputId": "c2ecd203-f694-4ce0-ffec-b87ee5a0dcb1"
      },
      "source": [
        "b=int(4)\n",
        "print (b)"
      ],
      "execution_count": 39,
      "outputs": [
        {
          "output_type": "stream",
          "name": "stdout",
          "text": [
            "4\n"
          ]
        }
      ]
    },
    {
      "cell_type": "code",
      "metadata": {
        "colab": {
          "base_uri": "https://localhost:8080/"
        },
        "id": "vyzCpU37xeLp",
        "outputId": "51d4d72e-340a-44ac-f3aa-a27da0a05b06"
      },
      "source": [
        "x=5\n",
        "y=(\"john\")\n",
        "print (type(y))"
      ],
      "execution_count": 37,
      "outputs": [
        {
          "output_type": "stream",
          "name": "stdout",
          "text": [
            "<class 'str'>\n"
          ]
        }
      ]
    },
    {
      "cell_type": "code",
      "metadata": {
        "colab": {
          "base_uri": "https://localhost:8080/"
        },
        "id": "XX7G_xmJk1an",
        "outputId": "5e132bc1-4fba-45ea-c741-1f90b4f919fb"
      },
      "source": [
        "b = float(4)\n",
        "print (round,((b),3))"
      ],
      "execution_count": 18,
      "outputs": [
        {
          "output_type": "stream",
          "name": "stdout",
          "text": [
            "<built-in function round> (4.0, 3)\n"
          ]
        }
      ]
    },
    {
      "cell_type": "code",
      "metadata": {
        "colab": {
          "base_uri": "https://localhost:8080/"
        },
        "id": "hi2S5aQOmjlE",
        "outputId": "92e4a3e7-cc5a-4234-b92f-1a63122fa6bf"
      },
      "source": [
        "a = 4\n",
        "A = \"sally\"\n",
        "#A will not overwrite a\n",
        "print (a)\n",
        "print (A)"
      ],
      "execution_count": 19,
      "outputs": [
        {
          "output_type": "stream",
          "name": "stdout",
          "text": [
            "4\n",
            "sally\n"
          ]
        }
      ]
    },
    {
      "cell_type": "code",
      "metadata": {
        "colab": {
          "base_uri": "https://localhost:8080/"
        },
        "id": "YK0ri5e8my8P",
        "outputId": "bacb31e7-613a-48b5-ac75-9615b49081bd"
      },
      "source": [
        "x, y, z = \"One\", \"two\", \"three\"\n",
        "print (x)\n",
        "print (y)\n",
        "print (z)"
      ],
      "execution_count": 20,
      "outputs": [
        {
          "output_type": "stream",
          "name": "stdout",
          "text": [
            "One\n",
            "two\n",
            "three\n"
          ]
        }
      ]
    },
    {
      "cell_type": "code",
      "metadata": {
        "colab": {
          "base_uri": "https://localhost:8080/"
        },
        "id": "ivLXi8tTnHJw",
        "outputId": "2a154702-5a90-4649-c1b2-9bd86ce8e11d"
      },
      "source": [
        "x = y = z = \"four\"\n",
        "print (x)\n",
        "print (y)\n",
        "print (z)"
      ],
      "execution_count": 21,
      "outputs": [
        {
          "output_type": "stream",
          "name": "stdout",
          "text": [
            "four\n",
            "four\n",
            "four\n"
          ]
        }
      ]
    },
    {
      "cell_type": "code",
      "metadata": {
        "colab": {
          "base_uri": "https://localhost:8080/"
        },
        "id": "cJsCKlRVnmti",
        "outputId": "0d09fe94-e305-4e4f-9539-f5d3879ea9ce"
      },
      "source": [
        "x = 'enjoying'\n",
        "print (\"Python Programming is \" + x )"
      ],
      "execution_count": 25,
      "outputs": [
        {
          "output_type": "stream",
          "name": "stdout",
          "text": [
            "Python Programming is enjoying\n"
          ]
        }
      ]
    },
    {
      "cell_type": "code",
      "metadata": {
        "colab": {
          "base_uri": "https://localhost:8080/"
        },
        "id": "BaGeEwE9ovZd",
        "outputId": "d08a9de3-733a-4802-88f5-24d8deb69b8a"
      },
      "source": [
        "x = 5\n",
        "y= 6\n",
        "print (x+y)"
      ],
      "execution_count": 26,
      "outputs": [
        {
          "output_type": "stream",
          "name": "stdout",
          "text": [
            "11\n"
          ]
        }
      ]
    },
    {
      "cell_type": "code",
      "metadata": {
        "colab": {
          "base_uri": "https://localhost:8080/"
        },
        "id": "lC9mUZS1pSEq",
        "outputId": "1c323e7c-7669-4e93-8fac-d997605c8da4"
      },
      "source": [
        "a, b, c = 0, -1, 8\n",
        "c%=3\n",
        "print (c)"
      ],
      "execution_count": 31,
      "outputs": [
        {
          "output_type": "stream",
          "name": "stdout",
          "text": [
            "2\n"
          ]
        }
      ]
    },
    {
      "cell_type": "code",
      "metadata": {
        "colab": {
          "base_uri": "https://localhost:8080/"
        },
        "id": "gc5rvxdTxEwQ",
        "outputId": "6ca0cced-7b23-4f2e-9c7c-2c45ddbd44ce"
      },
      "source": [
        "x = 5\n",
        "x<6 and x<10"
      ],
      "execution_count": 35,
      "outputs": [
        {
          "output_type": "execute_result",
          "data": {
            "text/plain": [
              "True"
            ]
          },
          "metadata": {},
          "execution_count": 35
        }
      ]
    },
    {
      "cell_type": "code",
      "metadata": {
        "colab": {
          "base_uri": "https://localhost:8080/"
        },
        "id": "5gM_A03cxUC6",
        "outputId": "fd879af9-b599-4570-8c68-140eaa42bc50"
      },
      "source": [
        "y = 6\n",
        "z = 7\n",
        "y is not z"
      ],
      "execution_count": 36,
      "outputs": [
        {
          "output_type": "execute_result",
          "data": {
            "text/plain": [
              "True"
            ]
          },
          "metadata": {},
          "execution_count": 36
        }
      ]
    }
  ]
}